{
 "cells": [
  {
   "cell_type": "markdown",
   "metadata": {},
   "source": [
    "# 리스트에 있는 값들의 합을 구하는 함수"
   ]
  },
  {
   "cell_type": "code",
   "execution_count": 98,
   "metadata": {},
   "outputs": [
    {
     "data": {
      "text/plain": [
       "43"
      ]
     },
     "execution_count": 98,
     "metadata": {},
     "output_type": "execute_result"
    }
   ],
   "source": [
    "def SumInt(list):\n",
    "    \n",
    "    for i in range(len(list)):\n",
    "        list[i] = int(list[i])\n",
    "    tolist = sum(list)\n",
    "    \n",
    "    return tolist\n",
    "SumInt([\"1\",\"4\",\"5\",\"6\",\"8\",\"9\",\"10\"])"
   ]
  },
  {
   "cell_type": "markdown",
   "metadata": {},
   "source": [
    "# isoweek 라이브러리를 이용하여 해당 년도의 총 주차수 구하기"
   ]
  },
  {
   "cell_type": "code",
   "execution_count": 56,
   "metadata": {},
   "outputs": [
    {
     "data": {
      "text/plain": [
       "52"
      ]
     },
     "execution_count": 56,
     "metadata": {},
     "output_type": "execute_result"
    }
   ],
   "source": [
    "from isoweek import Week\n",
    "\n",
    "year = 2012\n",
    "a = Week.last_week_of_year(year).week\n",
    "a"
   ]
  },
  {
   "cell_type": "markdown",
   "metadata": {},
   "source": [
    "# isoweek 라이브러리를 이용하여 현재의 년도와 주차수 구하기"
   ]
  },
  {
   "cell_type": "code",
   "execution_count": 25,
   "metadata": {},
   "outputs": [
    {
     "data": {
      "text/plain": [
       "(2020, 14)"
      ]
     },
     "execution_count": 25,
     "metadata": {},
     "output_type": "execute_result"
    }
   ],
   "source": [
    "from isoweek import Week\n",
    "\n",
    "yearN = datetime.today().year \n",
    "weekN = dt.isocalendar()[1]\n",
    "\n",
    "yearN,weekN"
   ]
  },
  {
   "cell_type": "markdown",
   "metadata": {},
   "source": [
    "# isoweek 라이브러리를 이용하여 년도와 주차수 계산"
   ]
  },
  {
   "cell_type": "code",
   "execution_count": 116,
   "metadata": {},
   "outputs": [
    {
     "data": {
      "text/plain": [
       "isoweek.Week(2011, 32)"
      ]
     },
     "execution_count": 116,
     "metadata": {},
     "output_type": "execute_result"
    }
   ],
   "source": [
    "from isoweek import Week\n",
    "# 변수에 대입 할 연도 \n",
    "currYear = 2011\n",
    "\n",
    "# 주차 수\n",
    "weeknumber = 20\n",
    "\n",
    "# 변수에 넣은 해당 연도와 총 주차 수  값 = (2011,52)\n",
    "yearweek = Week.last_week_of_year(currYear)  \n",
    "\n",
    "# 대입한 연도와 총 추자수 에서 임의로 주차수 넣어서 뺀다\n",
    "findYW = yearweek - weeknumber\n",
    "\n",
    "# 값 = 2011,32\n",
    "findYW"
   ]
  },
  {
   "cell_type": "markdown",
   "metadata": {},
   "source": [
    "# isoweek 라이브러리를 이용하여 주차수의 차이 값 구하기"
   ]
  },
  {
   "cell_type": "code",
   "execution_count": 117,
   "metadata": {},
   "outputs": [
    {
     "name": "stdout",
     "output_type": "stream",
     "text": [
      "178\n"
     ]
    }
   ],
   "source": [
    "from isoweek import Week\n",
    "# 변수 선언 (임의로 지정한 연도와 주차수. 출력시 = 2015W22)\n",
    "w = Week(2015,22)\n",
    "\n",
    "# 대입할 연도\n",
    "currYear = 2011\n",
    "\n",
    "# 대입할 연도와 총 주차 수  값 (출력시 = 2011W52)\n",
    "a= Week.last_week_of_year(currYear)\n",
    "\n",
    "# 임의로 지정한 서로 다른 주차수의 차이값 (178)\n",
    "b = w - a\n",
    "print (b)"
   ]
  },
  {
   "cell_type": "markdown",
   "metadata": {},
   "source": [
    "# isoweek 라이브러리를 이용하여 함수만들기\n",
    " 년도와 주차수에서 얼만큼의 주차수를 뺄지 입력한 후 계산하기 (ex. 202002, 2  = 201952)"
   ]
  },
  {
   "cell_type": "code",
   "execution_count": 35,
   "metadata": {},
   "outputs": [
    {
     "name": "stdout",
     "output_type": "stream",
     "text": [
      "201553\n"
     ]
    }
   ],
   "source": [
    "from isoweek import Week\n",
    "\n",
    "# yearweek - week 함수 생성\n",
    "def preweek(YWNum, WeekNum):\n",
    "    \n",
    "    # 변수 선언\n",
    "    YWNum = str(YWNum)\n",
    "    WeekNum = int(WeekNum)\n",
    "    \n",
    "    # YWNum에서 year과 week 을 인식하기 위해 각 변수를 지정해줌  \n",
    "    year = int(YWNum[:4])\n",
    "    week = int(YWNum[4:])\n",
    "    \n",
    "    \n",
    "    # YWNum에서 주차수를 빼기 위함 \n",
    "    week = week - WeekNum   \n",
    "    \n",
    "    \n",
    "    # YWNum에서 주차수가 0이하면 연도를 - 해주고 난 뒤 해당 연도의 총 주차수를 연도와 더해줌\n",
    "    while(week <= 0):     # 2012xx 에서 xx가 0보다 작을 시\n",
    "        year -= 1         # 연도 - 1\n",
    "        week = week + int(Week.last_week_of_year(year).week)  # 해당 연도의 총 주차수를 더해줌 \n",
    "\n",
    "    YWNum = str(year) + str(week)\n",
    "\n",
    "    return YWNum\n",
    "\n",
    "print(preweek(201601, 1))   # 결과 값 = 201553"
   ]
  }
 ],
 "metadata": {
  "kernelspec": {
   "display_name": "Python 3",
   "language": "python",
   "name": "python3"
  },
  "language_info": {
   "codemirror_mode": {
    "name": "ipython",
    "version": 3
   },
   "file_extension": ".py",
   "mimetype": "text/x-python",
   "name": "python",
   "nbconvert_exporter": "python",
   "pygments_lexer": "ipython3",
   "version": "3.7.6"
  }
 },
 "nbformat": 4,
 "nbformat_minor": 4
}

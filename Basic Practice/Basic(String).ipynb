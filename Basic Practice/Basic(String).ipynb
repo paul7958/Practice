{
 "cells": [
  {
   "cell_type": "markdown",
   "metadata": {},
   "source": [
    "# 문자열 생성 후 각 변수에 맞게 데이터를 넣어주기"
   ]
  },
  {
   "cell_type": "code",
   "execution_count": null,
   "metadata": {},
   "outputs": [],
   "source": [
    "name = \"SEC 20180212 250\"\n",
    "\n",
    "stock_name = name[0:3]\n",
    "date = name[4:12]\n",
    "value = name[13:]\n",
    "\n",
    "print(stock_name,date,value)"
   ]
  },
  {
   "cell_type": "markdown",
   "metadata": {},
   "source": [
    "# 문자열 생성 후 문자열에서 \"W\" 단어를 제외하고 \n",
    "# 나머지는 모두 대문자로 출력해주기 "
   ]
  },
  {
   "cell_type": "code",
   "execution_count": null,
   "metadata": {},
   "outputs": [],
   "source": [
    "name = \"Sec 2018W28 250\"\n",
    "\n",
    "name = name.upper()\n",
    "name = name.replace(\"W\",\"\")\n",
    "\n",
    "stock_name = name[0:3]\n",
    "date = name[4:10]\n",
    "value = name[11:]\n",
    "\n",
    "print(stock_name,date,value)"
   ]
  }
 ],
 "metadata": {
  "kernelspec": {
   "display_name": "Python 3",
   "language": "python",
   "name": "python3"
  },
  "language_info": {
   "codemirror_mode": {
    "name": "ipython",
    "version": 3
   },
   "file_extension": ".py",
   "mimetype": "text/x-python",
   "name": "python",
   "nbconvert_exporter": "python",
   "pygments_lexer": "ipython3",
   "version": "3.7.6"
  }
 },
 "nbformat": 4,
 "nbformat_minor": 4
}

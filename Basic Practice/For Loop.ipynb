{
 "cells": [
  {
   "cell_type": "markdown",
   "metadata": {},
   "source": [
    "# 리스트에서 과일만 출력해보기"
   ]
  },
  {
   "cell_type": "code",
   "execution_count": null,
   "metadata": {},
   "outputs": [],
   "source": [
    "list = ['A03', '사과', 'A02', '포도', 'A03', '프랑스']\n",
    "\n",
    "nalen = len(list)\n",
    "for i in range(0,nalen):\n",
    "    if list[i].count('A') == 0:\n",
    "        print(list[i])\n",
    "    else:\n",
    "        pass"
   ]
  },
  {
   "cell_type": "markdown",
   "metadata": {},
   "source": [
    "# 리스트에 있는 문자열을 순서대로 출력해보기"
   ]
  },
  {
   "cell_type": "code",
   "execution_count": null,
   "metadata": {},
   "outputs": [],
   "source": [
    "tvList = ['UN40EN001', 'UN40EN002','UN40EN003', 'UN40EN004']\n",
    "\n",
    "tvlistlen = len(tvList)\n",
    "for i in range(0,tvlistlen):\n",
    "    print(tvList[i])"
   ]
  },
  {
   "cell_type": "markdown",
   "metadata": {},
   "source": [
    "# 반복문을 이용한 리스트의 평균값 구하기"
   ]
  },
  {
   "cell_type": "code",
   "execution_count": null,
   "metadata": {},
   "outputs": [],
   "source": [
    "scoreList = [70,60,55,75,95,90,80,80,85,100]\n",
    "sum = 0\n",
    "for i in range(0,len(scoreList)):\n",
    "    sum = sum + scoreList[i]\n",
    "    avg = sum / len(scoreList)\n",
    "print(avg)"
   ]
  },
  {
   "cell_type": "markdown",
   "metadata": {},
   "source": [
    "# 각 과목의 평균값과 총 과목의 평균값 구하기"
   ]
  },
  {
   "cell_type": "code",
   "execution_count": null,
   "metadata": {},
   "outputs": [],
   "source": [
    "mathList = [20,20,40,40,30]\n",
    "korList = [0,0,0,0,0]\n",
    "musicList = [30,30,50,50,40]\n",
    "\n",
    "\n",
    "#   mathList의 평균값 구하기  [평균값 : 30]\n",
    "sum = 0\n",
    "\n",
    "for i in range(0,len(mathList)):\n",
    "    sum = sum + mathList[i]\n",
    "    mathscore = sum + mathList[i]    \n",
    "    mathavg = sum / len(mathList)\n",
    "\n",
    "#   korList의 평균값 구하기 [평균값 : 0]\n",
    "sum1 = 0\n",
    "for j in range(0,len(korList)):\n",
    "        sum1 = sum1 + korList[j]\n",
    "        korscore = sum1 + korList[j]\n",
    "        koravg = sum1 / len(korList)\n",
    "      \n",
    "    \n",
    "#   musicList의 평균값 구하기 [평균값 : 40]    \n",
    "sum2 = 0\n",
    "for k in range(0,len(musicList)):\n",
    "        sum2 = sum2 + musicList[k]\n",
    "        musicscore = sum2 + musicList[k]\n",
    "        musavg = sum2 / len(musicList)\n",
    "\n",
    "\n",
    "\n",
    "#   total 평균값 구하기 [값 : 43.333 .....]\n",
    "totalavg = mathavg + koravg + musavg / 3\n",
    "\n",
    "print(\" 수학평균은 {} 입니다 \\n \\\n",
    "국어 평균은 {} 입니다 \\n \\\n",
    "음악 평균은 {} 입니다\\n \\\n",
    "전체 평균은 {} 입니다\\n \"\n",
    ".format(mathavg,koravg,musavg,\"%.2f\" % totalavg))"
   ]
  },
  {
   "cell_type": "markdown",
   "metadata": {},
   "source": [
    "# 리스트들의 데이터에 접두어를 붙이거나 \n",
    "# 소문자를 대문자로 반복문을 이용해 바꿔주기"
   ]
  },
  {
   "cell_type": "code",
   "execution_count": null,
   "metadata": {},
   "outputs": [],
   "source": [
    "tvList = ['UN40EN001', 'LEDTV_UN40EN002', 'LEDTV_LEDTV_UN40EN003', 'ledtv_UN40EN004']\n",
    "prefix = \"LEDTV_\"\n",
    "\n",
    "for i in range(0,len(tvList)):             # tvList의 데이터 개수만큼 반복.(4번)\n",
    "    tvList[i] = tvList[i].upper()          # tvList를 모두 대문자로 변환시켜줌\n",
    "    if tvList[i].count(prefix) == 0:       # 만약 접두어가(LEDTV_) 들어가 있지 않다면\n",
    "        tvList[i] = prefix + tvList[i]     # 접두어를 넣어준다. (EX.LEDTV_UN40EN001)\n",
    "    elif tvList[i].count(prefix) >= 2:     # 만약 접두어가 2개 들어가 있다면\n",
    "        tvList[i] = tvList[i].replace(prefix, \"\") # 접두어를 삭제시킨다\n",
    "        tvList[i] = prefix + tvList[i]            # 접두어와 데이터를 다시 붙여준다\n",
    "\n",
    "    print(tvList[i])"
   ]
  }
 ],
 "metadata": {
  "kernelspec": {
   "display_name": "Python 3",
   "language": "python",
   "name": "python3"
  },
  "language_info": {
   "codemirror_mode": {
    "name": "ipython",
    "version": 3
   },
   "file_extension": ".py",
   "mimetype": "text/x-python",
   "name": "python",
   "nbconvert_exporter": "python",
   "pygments_lexer": "ipython3",
   "version": "3.7.6"
  }
 },
 "nbformat": 4,
 "nbformat_minor": 4
}
